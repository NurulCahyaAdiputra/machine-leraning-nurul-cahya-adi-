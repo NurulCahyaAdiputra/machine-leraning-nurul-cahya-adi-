{
 "cells": [
  {
   "cell_type": "markdown",
   "metadata": {},
   "source": [
    "# NOTE1_Machine Learning\n",
    "\n",
    "## Linear Regression\n",
    "## Shelvira Alifia - 150411100013\n",
    "\n",
    "\n"
   ]
  },
  {
   "cell_type": "markdown",
   "metadata": {},
   "source": [
    "** Machine Learning** \n",
    "\n",
    "** Machine Learning Adalah adalah cabang aplikasi dari Artificial Intelligence (Kecerdasan Buatan) yang focus pada pengembangan sebuah sistem yang mampu belajar \"sendiri\" tanpa harus berulang kali di program oleh manusia. Aplikasi Machine learning membutuhkan Data sebagai bahan belajar (training) sebelum mengeluarkan output**\n",
    "\n"
   ]
  },
  {
   "cell_type": "markdown",
   "metadata": {},
   "source": [
    "** Analisis Regresi Linear Sederhana **\n",
    "Regresi Linear adalah Metode Statistik yang berfungsi untuk menguji sejauh mana hubungan sebab akibat antara Variabel Faktor Penyebab (X) terhadap Variabel Akibatnya. Faktor Penyebab pada umumnya dilambangkan dengan X atau disebut juga dengan Predictor sedangkan Variabel Akibat dilambangkan dengan Y atau disebut juga dengan Response. Regresi Linear Sederhana atau sering disingkat dengan SLR (Simple Linear Regression) juga merupakan salah satu Metode Statistik yang dipergunakan dalam produksi untuk melakukan peramalan ataupun prediksi tentang karakteristik kualitas maupun Kuantitas.\n",
    "![housing](regresi.jpg)\n",
    "\n"
   ]
  },
  {
   "cell_type": "markdown",
   "metadata": {},
   "source": [
    "Contoh Penggunaan Analisis Regresi Linear Sederhana dalam Produksi antara lain :\n",
    "1.\tHubungan antara Lamanya Kerusakan Mesin dengan Kualitas Produk yang dihasilkan\n",
    "2.\tHubungan Jumlah Pekerja dengan Output yang diproduksi\n",
    "3.\tHubungan antara suhu ruangan dengan Cacat Produksi yang dihasilkan.\n",
    "\n",
    "Model Persamaan Regresi Linear Sederhana adalah seperti berikut ini:\n",
    "**Y = a + bX**\n",
    "\n",
    "Dimana :\n",
    "Y = Variabel Response atau Variabel Akibat (Dependent)\n",
    "X = Variabel Predictor atau Variabel Faktor Penyebab (Independent)\n",
    "a = konstanta\n",
    "b = koefisien regresi (kemiringan); besaran Response yang ditimbulkan oleh Predictor.\n",
    "\n",
    "Nilai-nilai a dan b dapat dihitung dengan menggunakan Rumus dibawah ini :\n",
    "![housing](rumus.jpg)\n",
    "\n",
    "Berikut ini adalah Langkah-langkah dalam melakukan Analisis Regresi Linear Sederhana :\n",
    "1.\tTentukan Tujuan dari melakukan Analisis Regresi Linear Sederhana\n",
    "2.\tIdentifikasikan Variabel Faktor Penyebab (Predictor) dan Variabel Akibat (Response)\n",
    "3.\tLakukan Pengumpulan Data\n",
    "4.\tHitung  X², Y², XY dan total dari masing-masingnya\n",
    "5.\tHitung a dan b berdasarkan rumus diatas.\n",
    "6.\tBuatkan Model Persamaan Regresi Linear Sederhana.\n",
    "7.\tLakukan Prediksi atau Peramalan terhadap Variabel Faktor Penyebab atau Variabel Akibat.\n",
    "\n",
    "**Contoh Kasus Analisis Regresi Linear Sederhana **\n",
    "Seorang Engineer ingin mempelajari Hubungan antara Suhu Ruangan dengan Jumlah Cacat yang diakibatkannya, sehingga dapat memprediksi atau meramalkan jumlah cacat produksi jika suhu ruangan tersebut tidak terkendali. Engineer tersebut kemudian mengambil data selama 30 hari terhadap rata-rata (mean) suhu ruangan dan Jumlah Cacat Produksi.\n",
    "Penyelesaian\n",
    "Penyelesaiannya mengikuti Langkah-langkah dalam Analisis Regresi Linear Sederhana adalah sebagai berikut :\n",
    "\n",
    "**Langkah 1 : Penentuan Tujuan**\n",
    "Tujuan : Memprediksi Jumlah Cacat Produksi jika suhu ruangan tidak terkendali\n",
    "\n",
    "**Langkah 2 : Identifikasikan Variabel Penyebab dan Akibat**\n",
    "Varibel Faktor Penyebab (X) : Suhu Ruangan,\n",
    "Variabel Akibat (Y) : Jumlah Cacat Produksi\n",
    "\n",
    "**Langkah 3 : Pengumpulan Data**\n",
    "Berikut ini adalah data yang berhasil dikumpulkan selama 30 hari (berbentuk tabel) :\n",
    "![housing](tabel1.jpg)\n",
    "\n",
    "**Langkah 4 : Hitung X², Y², XY dan total dari masing-masingnya**\n",
    "Berikut ini adalah tabel yang telah dilakukan perhitungan X², Y², XY dan totalnya :\n",
    "![housing](tabel2.jpg)\n",
    "\n",
    "**Langkah 5 : Hitung a dan b berdasarkan rumus Regresi Linear Sederhana**\n",
    "\n",
    "Menghitung Konstanta (a) :\n",
    "![housing](rumusa.jpg)\n",
    "\n",
    "Menghitung Koefisien Regresi (b)\n",
    "![housing](rumusb.jpg)\n",
    "\n",
    "**Langkah 6 : Buat Model Persamaan Regresi**\n",
    "**Y = a + bX\n",
    "Y = -24,38 + 1,45X**\n",
    "\n",
    "**Langkah 7 : Lakukan Prediksi atau Peramalan terhadap Variabel Faktor Penyebab atau Variabel Akibat**\n",
    "I. Prediksikan Jumlah Cacat Produksi jika suhu dalam keadaan tinggi (Variabel X), contohnya : **30°C**\n",
    "\n",
    "**Y = -24,38 + 1,45 (30)\n",
    "Y = 19,12**\n",
    "\n",
    "Jadi Jika Suhu ruangan mencapai 30°C, maka akan diprediksikan akan terdapat 19,12 unit cacat yang dihasilkan oleh produksi.\n",
    "II. Jika Cacat Produksi (Variabel Y) yang ditargetkan hanya boleh 4 unit, maka berapakah suhu ruangan yang diperlukan untuk mencapai target tersebut ?\n",
    "\n",
    "**4 = -24,38 + 1,45X\n",
    "1,45X = 4 + 24,38\n",
    "X = 28,38 / 1,45\n",
    "X = 19,57**\n",
    "Jadi Prediksi Suhu Ruangan yang paling sesuai untuk mencapai target Cacat Produksi adalah sekitar **19,57°C**\n",
    "\n",
    "\n"
   ]
  }
 ],
 "metadata": {
  "kernelspec": {
   "display_name": "Python 3",
   "language": "python",
   "name": "python3"
  },
  "language_info": {
   "codemirror_mode": {
    "name": "ipython",
    "version": 3
   },
   "file_extension": ".py",
   "mimetype": "text/x-python",
   "name": "python",
   "nbconvert_exporter": "python",
   "pygments_lexer": "ipython3",
   "version": "3.6.1"
  }
 },
 "nbformat": 4,
 "nbformat_minor": 2
}
